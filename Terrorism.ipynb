{
  "nbformat": 4,
  "nbformat_minor": 0,
  "metadata": {
    "colab": {
      "name": "Terrorism.ipynb",
      "provenance": []
    },
    "kernelspec": {
      "name": "python3",
      "display_name": "Python 3"
    },
    "language_info": {
      "name": "python"
    }
  },
  "cells": [
    {
      "cell_type": "markdown",
      "metadata": {
        "id": "F1oX-nNrhSFf"
      },
      "source": [
        "1. Import Data\n"
      ]
    },
    {
      "cell_type": "code",
      "metadata": {
        "colab": {
          "base_uri": "https://localhost:8080/"
        },
        "id": "_18V_xv6Z2Ok",
        "outputId": "cc5f95bf-8205-4956-d92e-e8db5a31689e"
      },
      "source": [
        "from google.colab import drive\n",
        "drive.mount('/content/drive')"
      ],
      "execution_count": null,
      "outputs": [
        {
          "output_type": "stream",
          "text": [
            "Drive already mounted at /content/drive; to attempt to forcibly remount, call drive.mount(\"/content/drive\", force_remount=True).\n"
          ],
          "name": "stdout"
        }
      ]
    },
    {
      "cell_type": "code",
      "metadata": {
        "id": "MdsrEzVyZf5Y"
      },
      "source": [
        "import pandas as pd\n",
        "import seaborn as sns\n",
        "import matplotlib.pyplot as plt\n",
        "from wordcloud import WordCloud, STOPWORDS"
      ],
      "execution_count": null,
      "outputs": []
    },
    {
      "cell_type": "code",
      "metadata": {
        "colab": {
          "base_uri": "https://localhost:8080/"
        },
        "id": "J3mgRVVTeh2T",
        "outputId": "0aeba4f5-8465-47f0-86c1-daddea3086c0"
      },
      "source": [
        "df = pd.read_csv('/content/drive/MyDrive/Colab Notebooks/globalterrorismdb_0718dist.csv',encoding='latin1')"
      ],
      "execution_count": null,
      "outputs": [
        {
          "output_type": "stream",
          "text": [
            "/usr/local/lib/python3.7/dist-packages/IPython/core/interactiveshell.py:2718: DtypeWarning: Columns (4,6,31,33,61,62,63,76,79,90,92,94,96,114,115,121) have mixed types.Specify dtype option on import or set low_memory=False.\n",
            "  interactivity=interactivity, compiler=compiler, result=result)\n"
          ],
          "name": "stderr"
        }
      ]
    },
    {
      "cell_type": "code",
      "metadata": {
        "id": "Zhc8QpwGe4ZW",
        "colab": {
          "base_uri": "https://localhost:8080/",
          "height": 370
        },
        "outputId": "9c4a9c61-e9b0-4f9a-fc11-55c63b76c724"
      },
      "source": [
        "df.head()"
      ],
      "execution_count": null,
      "outputs": [
        {
          "output_type": "execute_result",
          "data": {
            "text/html": [
              "<div>\n",
              "<style scoped>\n",
              "    .dataframe tbody tr th:only-of-type {\n",
              "        vertical-align: middle;\n",
              "    }\n",
              "\n",
              "    .dataframe tbody tr th {\n",
              "        vertical-align: top;\n",
              "    }\n",
              "\n",
              "    .dataframe thead th {\n",
              "        text-align: right;\n",
              "    }\n",
              "</style>\n",
              "<table border=\"1\" class=\"dataframe\">\n",
              "  <thead>\n",
              "    <tr style=\"text-align: right;\">\n",
              "      <th></th>\n",
              "      <th>eventid</th>\n",
              "      <th>iyear</th>\n",
              "      <th>imonth</th>\n",
              "      <th>iday</th>\n",
              "      <th>approxdate</th>\n",
              "      <th>extended</th>\n",
              "      <th>resolution</th>\n",
              "      <th>country</th>\n",
              "      <th>country_txt</th>\n",
              "      <th>region</th>\n",
              "      <th>region_txt</th>\n",
              "      <th>provstate</th>\n",
              "      <th>city</th>\n",
              "      <th>latitude</th>\n",
              "      <th>longitude</th>\n",
              "      <th>specificity</th>\n",
              "      <th>vicinity</th>\n",
              "      <th>location</th>\n",
              "      <th>summary</th>\n",
              "      <th>crit1</th>\n",
              "      <th>crit2</th>\n",
              "      <th>crit3</th>\n",
              "      <th>doubtterr</th>\n",
              "      <th>alternative</th>\n",
              "      <th>alternative_txt</th>\n",
              "      <th>multiple</th>\n",
              "      <th>success</th>\n",
              "      <th>suicide</th>\n",
              "      <th>attacktype1</th>\n",
              "      <th>attacktype1_txt</th>\n",
              "      <th>attacktype2</th>\n",
              "      <th>attacktype2_txt</th>\n",
              "      <th>attacktype3</th>\n",
              "      <th>attacktype3_txt</th>\n",
              "      <th>targtype1</th>\n",
              "      <th>targtype1_txt</th>\n",
              "      <th>targsubtype1</th>\n",
              "      <th>targsubtype1_txt</th>\n",
              "      <th>corp1</th>\n",
              "      <th>target1</th>\n",
              "      <th>...</th>\n",
              "      <th>weapsubtype4</th>\n",
              "      <th>weapsubtype4_txt</th>\n",
              "      <th>weapdetail</th>\n",
              "      <th>nkill</th>\n",
              "      <th>nkillus</th>\n",
              "      <th>nkillter</th>\n",
              "      <th>nwound</th>\n",
              "      <th>nwoundus</th>\n",
              "      <th>nwoundte</th>\n",
              "      <th>property</th>\n",
              "      <th>propextent</th>\n",
              "      <th>propextent_txt</th>\n",
              "      <th>propvalue</th>\n",
              "      <th>propcomment</th>\n",
              "      <th>ishostkid</th>\n",
              "      <th>nhostkid</th>\n",
              "      <th>nhostkidus</th>\n",
              "      <th>nhours</th>\n",
              "      <th>ndays</th>\n",
              "      <th>divert</th>\n",
              "      <th>kidhijcountry</th>\n",
              "      <th>ransom</th>\n",
              "      <th>ransomamt</th>\n",
              "      <th>ransomamtus</th>\n",
              "      <th>ransompaid</th>\n",
              "      <th>ransompaidus</th>\n",
              "      <th>ransomnote</th>\n",
              "      <th>hostkidoutcome</th>\n",
              "      <th>hostkidoutcome_txt</th>\n",
              "      <th>nreleased</th>\n",
              "      <th>addnotes</th>\n",
              "      <th>scite1</th>\n",
              "      <th>scite2</th>\n",
              "      <th>scite3</th>\n",
              "      <th>dbsource</th>\n",
              "      <th>INT_LOG</th>\n",
              "      <th>INT_IDEO</th>\n",
              "      <th>INT_MISC</th>\n",
              "      <th>INT_ANY</th>\n",
              "      <th>related</th>\n",
              "    </tr>\n",
              "  </thead>\n",
              "  <tbody>\n",
              "    <tr>\n",
              "      <th>0</th>\n",
              "      <td>197000000001</td>\n",
              "      <td>1970</td>\n",
              "      <td>7</td>\n",
              "      <td>2</td>\n",
              "      <td>NaN</td>\n",
              "      <td>0</td>\n",
              "      <td>NaN</td>\n",
              "      <td>58</td>\n",
              "      <td>Dominican Republic</td>\n",
              "      <td>2</td>\n",
              "      <td>Central America &amp; Caribbean</td>\n",
              "      <td>NaN</td>\n",
              "      <td>Santo Domingo</td>\n",
              "      <td>18.456792</td>\n",
              "      <td>-69.951164</td>\n",
              "      <td>1.0</td>\n",
              "      <td>0</td>\n",
              "      <td>NaN</td>\n",
              "      <td>NaN</td>\n",
              "      <td>1</td>\n",
              "      <td>1</td>\n",
              "      <td>1</td>\n",
              "      <td>0.0</td>\n",
              "      <td>NaN</td>\n",
              "      <td>NaN</td>\n",
              "      <td>0.0</td>\n",
              "      <td>1</td>\n",
              "      <td>0</td>\n",
              "      <td>1</td>\n",
              "      <td>Assassination</td>\n",
              "      <td>NaN</td>\n",
              "      <td>NaN</td>\n",
              "      <td>NaN</td>\n",
              "      <td>NaN</td>\n",
              "      <td>14</td>\n",
              "      <td>Private Citizens &amp; Property</td>\n",
              "      <td>68.0</td>\n",
              "      <td>Named Civilian</td>\n",
              "      <td>NaN</td>\n",
              "      <td>Julio Guzman</td>\n",
              "      <td>...</td>\n",
              "      <td>NaN</td>\n",
              "      <td>NaN</td>\n",
              "      <td>NaN</td>\n",
              "      <td>1.0</td>\n",
              "      <td>NaN</td>\n",
              "      <td>NaN</td>\n",
              "      <td>0.0</td>\n",
              "      <td>NaN</td>\n",
              "      <td>NaN</td>\n",
              "      <td>0</td>\n",
              "      <td>NaN</td>\n",
              "      <td>NaN</td>\n",
              "      <td>NaN</td>\n",
              "      <td>NaN</td>\n",
              "      <td>0.0</td>\n",
              "      <td>NaN</td>\n",
              "      <td>NaN</td>\n",
              "      <td>NaN</td>\n",
              "      <td>NaN</td>\n",
              "      <td>NaN</td>\n",
              "      <td>NaN</td>\n",
              "      <td>0.0</td>\n",
              "      <td>NaN</td>\n",
              "      <td>NaN</td>\n",
              "      <td>NaN</td>\n",
              "      <td>NaN</td>\n",
              "      <td>NaN</td>\n",
              "      <td>NaN</td>\n",
              "      <td>NaN</td>\n",
              "      <td>NaN</td>\n",
              "      <td>NaN</td>\n",
              "      <td>NaN</td>\n",
              "      <td>NaN</td>\n",
              "      <td>NaN</td>\n",
              "      <td>PGIS</td>\n",
              "      <td>0</td>\n",
              "      <td>0</td>\n",
              "      <td>0</td>\n",
              "      <td>0</td>\n",
              "      <td>NaN</td>\n",
              "    </tr>\n",
              "    <tr>\n",
              "      <th>1</th>\n",
              "      <td>197000000002</td>\n",
              "      <td>1970</td>\n",
              "      <td>0</td>\n",
              "      <td>0</td>\n",
              "      <td>NaN</td>\n",
              "      <td>0</td>\n",
              "      <td>NaN</td>\n",
              "      <td>130</td>\n",
              "      <td>Mexico</td>\n",
              "      <td>1</td>\n",
              "      <td>North America</td>\n",
              "      <td>Federal</td>\n",
              "      <td>Mexico city</td>\n",
              "      <td>19.371887</td>\n",
              "      <td>-99.086624</td>\n",
              "      <td>1.0</td>\n",
              "      <td>0</td>\n",
              "      <td>NaN</td>\n",
              "      <td>NaN</td>\n",
              "      <td>1</td>\n",
              "      <td>1</td>\n",
              "      <td>1</td>\n",
              "      <td>0.0</td>\n",
              "      <td>NaN</td>\n",
              "      <td>NaN</td>\n",
              "      <td>0.0</td>\n",
              "      <td>1</td>\n",
              "      <td>0</td>\n",
              "      <td>6</td>\n",
              "      <td>Hostage Taking (Kidnapping)</td>\n",
              "      <td>NaN</td>\n",
              "      <td>NaN</td>\n",
              "      <td>NaN</td>\n",
              "      <td>NaN</td>\n",
              "      <td>7</td>\n",
              "      <td>Government (Diplomatic)</td>\n",
              "      <td>45.0</td>\n",
              "      <td>Diplomatic Personnel (outside of embassy, cons...</td>\n",
              "      <td>Belgian Ambassador Daughter</td>\n",
              "      <td>Nadine Chaval, daughter</td>\n",
              "      <td>...</td>\n",
              "      <td>NaN</td>\n",
              "      <td>NaN</td>\n",
              "      <td>NaN</td>\n",
              "      <td>0.0</td>\n",
              "      <td>NaN</td>\n",
              "      <td>NaN</td>\n",
              "      <td>0.0</td>\n",
              "      <td>NaN</td>\n",
              "      <td>NaN</td>\n",
              "      <td>0</td>\n",
              "      <td>NaN</td>\n",
              "      <td>NaN</td>\n",
              "      <td>NaN</td>\n",
              "      <td>NaN</td>\n",
              "      <td>1.0</td>\n",
              "      <td>1.0</td>\n",
              "      <td>0.0</td>\n",
              "      <td>NaN</td>\n",
              "      <td>NaN</td>\n",
              "      <td>NaN</td>\n",
              "      <td>Mexico</td>\n",
              "      <td>1.0</td>\n",
              "      <td>800000.0</td>\n",
              "      <td>NaN</td>\n",
              "      <td>NaN</td>\n",
              "      <td>NaN</td>\n",
              "      <td>NaN</td>\n",
              "      <td>NaN</td>\n",
              "      <td>NaN</td>\n",
              "      <td>NaN</td>\n",
              "      <td>NaN</td>\n",
              "      <td>NaN</td>\n",
              "      <td>NaN</td>\n",
              "      <td>NaN</td>\n",
              "      <td>PGIS</td>\n",
              "      <td>0</td>\n",
              "      <td>1</td>\n",
              "      <td>1</td>\n",
              "      <td>1</td>\n",
              "      <td>NaN</td>\n",
              "    </tr>\n",
              "    <tr>\n",
              "      <th>2</th>\n",
              "      <td>197001000001</td>\n",
              "      <td>1970</td>\n",
              "      <td>1</td>\n",
              "      <td>0</td>\n",
              "      <td>NaN</td>\n",
              "      <td>0</td>\n",
              "      <td>NaN</td>\n",
              "      <td>160</td>\n",
              "      <td>Philippines</td>\n",
              "      <td>5</td>\n",
              "      <td>Southeast Asia</td>\n",
              "      <td>Tarlac</td>\n",
              "      <td>Unknown</td>\n",
              "      <td>15.478598</td>\n",
              "      <td>120.599741</td>\n",
              "      <td>4.0</td>\n",
              "      <td>0</td>\n",
              "      <td>NaN</td>\n",
              "      <td>NaN</td>\n",
              "      <td>1</td>\n",
              "      <td>1</td>\n",
              "      <td>1</td>\n",
              "      <td>0.0</td>\n",
              "      <td>NaN</td>\n",
              "      <td>NaN</td>\n",
              "      <td>0.0</td>\n",
              "      <td>1</td>\n",
              "      <td>0</td>\n",
              "      <td>1</td>\n",
              "      <td>Assassination</td>\n",
              "      <td>NaN</td>\n",
              "      <td>NaN</td>\n",
              "      <td>NaN</td>\n",
              "      <td>NaN</td>\n",
              "      <td>10</td>\n",
              "      <td>Journalists &amp; Media</td>\n",
              "      <td>54.0</td>\n",
              "      <td>Radio Journalist/Staff/Facility</td>\n",
              "      <td>Voice of America</td>\n",
              "      <td>Employee</td>\n",
              "      <td>...</td>\n",
              "      <td>NaN</td>\n",
              "      <td>NaN</td>\n",
              "      <td>NaN</td>\n",
              "      <td>1.0</td>\n",
              "      <td>NaN</td>\n",
              "      <td>NaN</td>\n",
              "      <td>0.0</td>\n",
              "      <td>NaN</td>\n",
              "      <td>NaN</td>\n",
              "      <td>0</td>\n",
              "      <td>NaN</td>\n",
              "      <td>NaN</td>\n",
              "      <td>NaN</td>\n",
              "      <td>NaN</td>\n",
              "      <td>0.0</td>\n",
              "      <td>NaN</td>\n",
              "      <td>NaN</td>\n",
              "      <td>NaN</td>\n",
              "      <td>NaN</td>\n",
              "      <td>NaN</td>\n",
              "      <td>NaN</td>\n",
              "      <td>0.0</td>\n",
              "      <td>NaN</td>\n",
              "      <td>NaN</td>\n",
              "      <td>NaN</td>\n",
              "      <td>NaN</td>\n",
              "      <td>NaN</td>\n",
              "      <td>NaN</td>\n",
              "      <td>NaN</td>\n",
              "      <td>NaN</td>\n",
              "      <td>NaN</td>\n",
              "      <td>NaN</td>\n",
              "      <td>NaN</td>\n",
              "      <td>NaN</td>\n",
              "      <td>PGIS</td>\n",
              "      <td>-9</td>\n",
              "      <td>-9</td>\n",
              "      <td>1</td>\n",
              "      <td>1</td>\n",
              "      <td>NaN</td>\n",
              "    </tr>\n",
              "    <tr>\n",
              "      <th>3</th>\n",
              "      <td>197001000002</td>\n",
              "      <td>1970</td>\n",
              "      <td>1</td>\n",
              "      <td>0</td>\n",
              "      <td>NaN</td>\n",
              "      <td>0</td>\n",
              "      <td>NaN</td>\n",
              "      <td>78</td>\n",
              "      <td>Greece</td>\n",
              "      <td>8</td>\n",
              "      <td>Western Europe</td>\n",
              "      <td>Attica</td>\n",
              "      <td>Athens</td>\n",
              "      <td>37.997490</td>\n",
              "      <td>23.762728</td>\n",
              "      <td>1.0</td>\n",
              "      <td>0</td>\n",
              "      <td>NaN</td>\n",
              "      <td>NaN</td>\n",
              "      <td>1</td>\n",
              "      <td>1</td>\n",
              "      <td>1</td>\n",
              "      <td>0.0</td>\n",
              "      <td>NaN</td>\n",
              "      <td>NaN</td>\n",
              "      <td>0.0</td>\n",
              "      <td>1</td>\n",
              "      <td>0</td>\n",
              "      <td>3</td>\n",
              "      <td>Bombing/Explosion</td>\n",
              "      <td>NaN</td>\n",
              "      <td>NaN</td>\n",
              "      <td>NaN</td>\n",
              "      <td>NaN</td>\n",
              "      <td>7</td>\n",
              "      <td>Government (Diplomatic)</td>\n",
              "      <td>46.0</td>\n",
              "      <td>Embassy/Consulate</td>\n",
              "      <td>NaN</td>\n",
              "      <td>U.S. Embassy</td>\n",
              "      <td>...</td>\n",
              "      <td>NaN</td>\n",
              "      <td>NaN</td>\n",
              "      <td>Explosive</td>\n",
              "      <td>NaN</td>\n",
              "      <td>NaN</td>\n",
              "      <td>NaN</td>\n",
              "      <td>NaN</td>\n",
              "      <td>NaN</td>\n",
              "      <td>NaN</td>\n",
              "      <td>1</td>\n",
              "      <td>NaN</td>\n",
              "      <td>NaN</td>\n",
              "      <td>NaN</td>\n",
              "      <td>NaN</td>\n",
              "      <td>0.0</td>\n",
              "      <td>NaN</td>\n",
              "      <td>NaN</td>\n",
              "      <td>NaN</td>\n",
              "      <td>NaN</td>\n",
              "      <td>NaN</td>\n",
              "      <td>NaN</td>\n",
              "      <td>0.0</td>\n",
              "      <td>NaN</td>\n",
              "      <td>NaN</td>\n",
              "      <td>NaN</td>\n",
              "      <td>NaN</td>\n",
              "      <td>NaN</td>\n",
              "      <td>NaN</td>\n",
              "      <td>NaN</td>\n",
              "      <td>NaN</td>\n",
              "      <td>NaN</td>\n",
              "      <td>NaN</td>\n",
              "      <td>NaN</td>\n",
              "      <td>NaN</td>\n",
              "      <td>PGIS</td>\n",
              "      <td>-9</td>\n",
              "      <td>-9</td>\n",
              "      <td>1</td>\n",
              "      <td>1</td>\n",
              "      <td>NaN</td>\n",
              "    </tr>\n",
              "    <tr>\n",
              "      <th>4</th>\n",
              "      <td>197001000003</td>\n",
              "      <td>1970</td>\n",
              "      <td>1</td>\n",
              "      <td>0</td>\n",
              "      <td>NaN</td>\n",
              "      <td>0</td>\n",
              "      <td>NaN</td>\n",
              "      <td>101</td>\n",
              "      <td>Japan</td>\n",
              "      <td>4</td>\n",
              "      <td>East Asia</td>\n",
              "      <td>Fukouka</td>\n",
              "      <td>Fukouka</td>\n",
              "      <td>33.580412</td>\n",
              "      <td>130.396361</td>\n",
              "      <td>1.0</td>\n",
              "      <td>0</td>\n",
              "      <td>NaN</td>\n",
              "      <td>NaN</td>\n",
              "      <td>1</td>\n",
              "      <td>1</td>\n",
              "      <td>1</td>\n",
              "      <td>-9.0</td>\n",
              "      <td>NaN</td>\n",
              "      <td>NaN</td>\n",
              "      <td>0.0</td>\n",
              "      <td>1</td>\n",
              "      <td>0</td>\n",
              "      <td>7</td>\n",
              "      <td>Facility/Infrastructure Attack</td>\n",
              "      <td>NaN</td>\n",
              "      <td>NaN</td>\n",
              "      <td>NaN</td>\n",
              "      <td>NaN</td>\n",
              "      <td>7</td>\n",
              "      <td>Government (Diplomatic)</td>\n",
              "      <td>46.0</td>\n",
              "      <td>Embassy/Consulate</td>\n",
              "      <td>NaN</td>\n",
              "      <td>U.S. Consulate</td>\n",
              "      <td>...</td>\n",
              "      <td>NaN</td>\n",
              "      <td>NaN</td>\n",
              "      <td>Incendiary</td>\n",
              "      <td>NaN</td>\n",
              "      <td>NaN</td>\n",
              "      <td>NaN</td>\n",
              "      <td>NaN</td>\n",
              "      <td>NaN</td>\n",
              "      <td>NaN</td>\n",
              "      <td>1</td>\n",
              "      <td>NaN</td>\n",
              "      <td>NaN</td>\n",
              "      <td>NaN</td>\n",
              "      <td>NaN</td>\n",
              "      <td>0.0</td>\n",
              "      <td>NaN</td>\n",
              "      <td>NaN</td>\n",
              "      <td>NaN</td>\n",
              "      <td>NaN</td>\n",
              "      <td>NaN</td>\n",
              "      <td>NaN</td>\n",
              "      <td>0.0</td>\n",
              "      <td>NaN</td>\n",
              "      <td>NaN</td>\n",
              "      <td>NaN</td>\n",
              "      <td>NaN</td>\n",
              "      <td>NaN</td>\n",
              "      <td>NaN</td>\n",
              "      <td>NaN</td>\n",
              "      <td>NaN</td>\n",
              "      <td>NaN</td>\n",
              "      <td>NaN</td>\n",
              "      <td>NaN</td>\n",
              "      <td>NaN</td>\n",
              "      <td>PGIS</td>\n",
              "      <td>-9</td>\n",
              "      <td>-9</td>\n",
              "      <td>1</td>\n",
              "      <td>1</td>\n",
              "      <td>NaN</td>\n",
              "    </tr>\n",
              "  </tbody>\n",
              "</table>\n",
              "<p>5 rows × 135 columns</p>\n",
              "</div>"
            ],
            "text/plain": [
              "        eventid  iyear  imonth  iday  ... INT_IDEO  INT_MISC INT_ANY  related\n",
              "0  197000000001   1970       7     2  ...        0         0       0      NaN\n",
              "1  197000000002   1970       0     0  ...        1         1       1      NaN\n",
              "2  197001000001   1970       1     0  ...       -9         1       1      NaN\n",
              "3  197001000002   1970       1     0  ...       -9         1       1      NaN\n",
              "4  197001000003   1970       1     0  ...       -9         1       1      NaN\n",
              "\n",
              "[5 rows x 135 columns]"
            ]
          },
          "metadata": {
            "tags": []
          },
          "execution_count": 5
        }
      ]
    },
    {
      "cell_type": "markdown",
      "metadata": {
        "id": "8T2NmAGJhOyC"
      },
      "source": [
        "2. Clearning\n"
      ]
    },
    {
      "cell_type": "code",
      "metadata": {
        "id": "I2gpVjBMmmFU"
      },
      "source": [
        "df = df[['eventid','iyear','imonth','country_txt','region_txt','city','location','summary','success','suicide','attacktype1_txt','targtype1_txt','targsubtype1_txt']]\n",
        "df = df[(df['iyear'] >= 2013) & (df['iyear'] <=2017)]\n"
      ],
      "execution_count": null,
      "outputs": []
    },
    {
      "cell_type": "code",
      "metadata": {
        "colab": {
          "base_uri": "https://localhost:8080/"
        },
        "id": "SYScZvdAnfM7",
        "outputId": "eb978a9c-c669-4bca-a297-4700c4c8c6a7"
      },
      "source": [
        "df.info()"
      ],
      "execution_count": null,
      "outputs": [
        {
          "output_type": "stream",
          "text": [
            "<class 'pandas.core.frame.DataFrame'>\n",
            "Int64Index: 68391 entries, 113299 to 181690\n",
            "Data columns (total 13 columns):\n",
            " #   Column            Non-Null Count  Dtype \n",
            "---  ------            --------------  ----- \n",
            " 0   eventid           68391 non-null  int64 \n",
            " 1   iyear             68391 non-null  int64 \n",
            " 2   imonth            68391 non-null  int64 \n",
            " 3   country_txt       68391 non-null  object\n",
            " 4   region_txt        68391 non-null  object\n",
            " 5   city              68391 non-null  object\n",
            " 6   location          30117 non-null  object\n",
            " 7   summary           68391 non-null  object\n",
            " 8   success           68391 non-null  int64 \n",
            " 9   suicide           68391 non-null  int64 \n",
            " 10  attacktype1_txt   68391 non-null  object\n",
            " 11  targtype1_txt     68391 non-null  object\n",
            " 12  targsubtype1_txt  63561 non-null  object\n",
            "dtypes: int64(5), object(8)\n",
            "memory usage: 7.3+ MB\n"
          ],
          "name": "stdout"
        }
      ]
    },
    {
      "cell_type": "code",
      "metadata": {
        "colab": {
          "base_uri": "https://localhost:8080/"
        },
        "id": "uT9Mh9E_GWyH",
        "outputId": "961c12d9-1962-4bc8-cd07-a4d76abc4981"
      },
      "source": [
        "df['location'].fillna('Unknown')"
      ],
      "execution_count": null,
      "outputs": [
        {
          "output_type": "execute_result",
          "data": {
            "text/plain": [
              "113299                      Inside the Miryan Police limits\n",
              "113300                                              Unknown\n",
              "113301                                              Unknown\n",
              "113302                                      Southern Kirkuk\n",
              "113303    The incident occurred in the Orangi Town neigh...\n",
              "                                ...                        \n",
              "181686       The incident occurred near the town of Balcad.\n",
              "181687       The incident occurred at the Humaymim Airport.\n",
              "181688    The incident occurred in the Datu Hoffer distr...\n",
              "181689    The incident occurred in the Mantripukhri neig...\n",
              "181690                                              Unknown\n",
              "Name: location, Length: 68391, dtype: object"
            ]
          },
          "metadata": {
            "tags": []
          },
          "execution_count": 8
        }
      ]
    },
    {
      "cell_type": "code",
      "metadata": {
        "colab": {
          "base_uri": "https://localhost:8080/"
        },
        "id": "kLAppcEqnuqR",
        "outputId": "ef0a0e49-c548-4caf-f79c-b1052849c46b"
      },
      "source": [
        "df['location'].fillna('Unknown')\n",
        "df['targsubtype1_txt'].fillna('Unknown')\n",
        "df['summary'].fillna('Unknown')\n",
        "df.duplicated().sum()"
      ],
      "execution_count": null,
      "outputs": [
        {
          "output_type": "execute_result",
          "data": {
            "text/plain": [
              "0"
            ]
          },
          "metadata": {
            "tags": []
          },
          "execution_count": 9
        }
      ]
    },
    {
      "cell_type": "code",
      "metadata": {
        "colab": {
          "base_uri": "https://localhost:8080/",
          "height": 405
        },
        "id": "URe2p0yJoZ6q",
        "outputId": "519b1c06-52ab-46f7-b45f-058d573ea487"
      },
      "source": [
        "df.head()"
      ],
      "execution_count": null,
      "outputs": [
        {
          "output_type": "execute_result",
          "data": {
            "text/html": [
              "<div>\n",
              "<style scoped>\n",
              "    .dataframe tbody tr th:only-of-type {\n",
              "        vertical-align: middle;\n",
              "    }\n",
              "\n",
              "    .dataframe tbody tr th {\n",
              "        vertical-align: top;\n",
              "    }\n",
              "\n",
              "    .dataframe thead th {\n",
              "        text-align: right;\n",
              "    }\n",
              "</style>\n",
              "<table border=\"1\" class=\"dataframe\">\n",
              "  <thead>\n",
              "    <tr style=\"text-align: right;\">\n",
              "      <th></th>\n",
              "      <th>eventid</th>\n",
              "      <th>iyear</th>\n",
              "      <th>imonth</th>\n",
              "      <th>country_txt</th>\n",
              "      <th>region_txt</th>\n",
              "      <th>city</th>\n",
              "      <th>location</th>\n",
              "      <th>summary</th>\n",
              "      <th>success</th>\n",
              "      <th>suicide</th>\n",
              "      <th>attacktype1_txt</th>\n",
              "      <th>targtype1_txt</th>\n",
              "      <th>targsubtype1_txt</th>\n",
              "    </tr>\n",
              "  </thead>\n",
              "  <tbody>\n",
              "    <tr>\n",
              "      <th>113299</th>\n",
              "      <td>201301010001</td>\n",
              "      <td>2013</td>\n",
              "      <td>1</td>\n",
              "      <td>Pakistan</td>\n",
              "      <td>South Asia</td>\n",
              "      <td>Bannu</td>\n",
              "      <td>Inside the Miryan Police limits</td>\n",
              "      <td>01/01/2013: An explosive device was discovered...</td>\n",
              "      <td>0</td>\n",
              "      <td>0</td>\n",
              "      <td>Bombing/Explosion</td>\n",
              "      <td>Police</td>\n",
              "      <td>Police Building (headquarters, station, school)</td>\n",
              "    </tr>\n",
              "    <tr>\n",
              "      <th>113300</th>\n",
              "      <td>201301010002</td>\n",
              "      <td>2013</td>\n",
              "      <td>1</td>\n",
              "      <td>Iraq</td>\n",
              "      <td>Middle East &amp; North Africa</td>\n",
              "      <td>Tuz Khormato</td>\n",
              "      <td>NaN</td>\n",
              "      <td>01/01/2013: An explosives-laden vehicle detona...</td>\n",
              "      <td>1</td>\n",
              "      <td>0</td>\n",
              "      <td>Bombing/Explosion</td>\n",
              "      <td>Private Citizens &amp; Property</td>\n",
              "      <td>Village/City/Town/Suburb</td>\n",
              "    </tr>\n",
              "    <tr>\n",
              "      <th>113301</th>\n",
              "      <td>201301010003</td>\n",
              "      <td>2013</td>\n",
              "      <td>1</td>\n",
              "      <td>Iraq</td>\n",
              "      <td>Middle East &amp; North Africa</td>\n",
              "      <td>Tuz Khormato</td>\n",
              "      <td>NaN</td>\n",
              "      <td>01/01/2013: At least two explosives detonated ...</td>\n",
              "      <td>1</td>\n",
              "      <td>0</td>\n",
              "      <td>Bombing/Explosion</td>\n",
              "      <td>Police</td>\n",
              "      <td>Police Security Forces/Officers</td>\n",
              "    </tr>\n",
              "    <tr>\n",
              "      <th>113302</th>\n",
              "      <td>201301010004</td>\n",
              "      <td>2013</td>\n",
              "      <td>1</td>\n",
              "      <td>Iraq</td>\n",
              "      <td>Middle East &amp; North Africa</td>\n",
              "      <td>Kirkuk</td>\n",
              "      <td>Southern Kirkuk</td>\n",
              "      <td>01/01/2013: An explosive device detonated targ...</td>\n",
              "      <td>1</td>\n",
              "      <td>0</td>\n",
              "      <td>Bombing/Explosion</td>\n",
              "      <td>Police</td>\n",
              "      <td>Police Patrol (including vehicles and convoys)</td>\n",
              "    </tr>\n",
              "    <tr>\n",
              "      <th>113303</th>\n",
              "      <td>201301010005</td>\n",
              "      <td>2013</td>\n",
              "      <td>1</td>\n",
              "      <td>Pakistan</td>\n",
              "      <td>South Asia</td>\n",
              "      <td>Karachi</td>\n",
              "      <td>The incident occurred in the Orangi Town neigh...</td>\n",
              "      <td>01/01/2013: An explosive device was discovered...</td>\n",
              "      <td>0</td>\n",
              "      <td>0</td>\n",
              "      <td>Bombing/Explosion</td>\n",
              "      <td>Private Citizens &amp; Property</td>\n",
              "      <td>Political Party Member/Rally</td>\n",
              "    </tr>\n",
              "  </tbody>\n",
              "</table>\n",
              "</div>"
            ],
            "text/plain": [
              "             eventid  ...                                 targsubtype1_txt\n",
              "113299  201301010001  ...  Police Building (headquarters, station, school)\n",
              "113300  201301010002  ...                         Village/City/Town/Suburb\n",
              "113301  201301010003  ...                  Police Security Forces/Officers\n",
              "113302  201301010004  ...   Police Patrol (including vehicles and convoys)\n",
              "113303  201301010005  ...                     Political Party Member/Rally\n",
              "\n",
              "[5 rows x 13 columns]"
            ]
          },
          "metadata": {
            "tags": []
          },
          "execution_count": 17
        }
      ]
    },
    {
      "cell_type": "code",
      "metadata": {
        "colab": {
          "base_uri": "https://localhost:8080/",
          "height": 1000
        },
        "id": "2O0ynhKRIMEb",
        "outputId": "2b2d3831-7279-4615-bcfb-4afccc68ef44"
      },
      "source": [
        "stopwords = set(STOPWORDS)\n",
        "def mywordcloud(data, title =None):\n",
        "  wordcloud = WordCloud(\n",
        "      background_color = 'white',\n",
        "      stopwords=stopwords,\n",
        "      max_words = 200,\n",
        "      max_font_size = 40,\n",
        "      scale=3,\n",
        "      random_state=1\n",
        "  ).generate(str(data))\n",
        "  fig = plt.figure(1, figsize=(20,20))\n",
        "  plt.axis('off')\n",
        "  if title:\n",
        "    fig.suptitle(title, frontsize = 20)\n",
        "    fig.subplots_adjust(top=2.3)\n",
        "    plt.imshow(wordcloud)\n",
        "    plt.show()\n",
        "  wordcloud.to_file('word_cloud.png')\n",
        "mywordcloud(df['summary'].head(100))"
      ],
      "execution_count": null,
      "outputs": [
        {
          "output_type": "display_data",
          "data": {
            "image/png": "[encoded data removed]",
            "text/plain": [
              "<Figure size 1440x1440 with 1 Axes>"
            ]
          },
          "metadata": {
            "tags": [],
            "needs_background": "light"
          }
        }
      ]
    },
    {
      "cell_type": "markdown",
      "metadata": {
        "id": "SzeHwuhlNvl9"
      },
      "source": [
        "# New Section"
      ]
    },
    {
      "cell_type": "code",
      "metadata": {
        "colab": {
          "base_uri": "https://localhost:8080/"
        },
        "id": "FBLSao1fgG5b",
        "outputId": "ad518313-190f-40ac-b6cb-534377591ab5"
      },
      "source": [
        "df['region_txt'].unique()"
      ],
      "execution_count": null,
      "outputs": [
        {
          "output_type": "execute_result",
          "data": {
            "text/plain": [
              "array(['South Asia', 'Middle East & North Africa', 'Sub-Saharan Africa',\n",
              "       'Southeast Asia', 'Eastern Europe', 'South America',\n",
              "       'Western Europe', 'North America', 'Central America & Caribbean',\n",
              "       'Central Asia', 'East Asia', 'Australasia & Oceania'], dtype=object)"
            ]
          },
          "metadata": {
            "tags": []
          },
          "execution_count": 11
        }
      ]
    },
    {
      "cell_type": "code",
      "metadata": {
        "id": "Ytcpq-K4gLrQ",
        "colab": {
          "base_uri": "https://localhost:8080/",
          "height": 606
        },
        "outputId": "f34ec32f-a426-4bb0-cee2-4c014199f1c7"
      },
      "source": [
        "# I. Top các vùng bị khủng bố nhiều nhất (từ năm 2013 đến 2017)\n",
        "region_to_conntry = df.groupby('region_txt').count()['country_txt'].reset_index()\n",
        "region_to_conntry = region_to_conntry.sort_values('country_txt', ascending=False).head(5)\n",
        "plt.figure(figsize=(10,10))\n",
        "sns.barplot(data=region_to_conntry, x='region_txt', y= 'country_txt')\n",
        "plt.show()"
      ],
      "execution_count": null,
      "outputs": [
        {
          "output_type": "display_data",
          "data": {
            "image/png": "[encoded data removed]",
            "text/plain": [
              "<Figure size 720x720 with 1 Axes>"
            ]
          },
          "metadata": {
            "tags": [],
            "needs_background": "light"
          }
        }
      ]
    },
    {
      "cell_type": "code",
      "metadata": {
        "colab": {
          "base_uri": "https://localhost:8080/",
          "height": 606
        },
        "id": "zfeqxvNJCgmV",
        "outputId": "b9c88cd5-493c-4259-b68c-cda5eab89217"
      },
      "source": [
        "# 1. Top các thành phố ở vùng Trung Đông và Bắc Phi bị tấn công khủng bố nhiều nhất\n",
        "data_mideast_norafrica=df[(df['region_txt'] == 'Middle East & North Africa')]\n",
        "mideast_norafrica_to_city = data_mideast_norafrica.groupby('country_txt').count()['city'].reset_index()\n",
        "mideast_norafrica_to_city = mideast_norafrica_to_city.sort_values('city', ascending=False).head(5)\n",
        "plt.figure(figsize=(10,10))\n",
        "sns.barplot(data=mideast_norafrica_to_city, x='country_txt', y= 'city')\n",
        "plt.show()"
      ],
      "execution_count": null,
      "outputs": [
        {
          "output_type": "display_data",
          "data": {
            "image/png": "[encoded data removed]",
            "text/plain": [
              "<Figure size 720x720 with 1 Axes>"
            ]
          },
          "metadata": {
            "tags": [],
            "needs_background": "light"
          }
        }
      ]
    },
    {
      "cell_type": "code",
      "metadata": {
        "id": "xhglWdcBLdpA",
        "colab": {
          "base_uri": "https://localhost:8080/",
          "height": 371
        },
        "outputId": "73e24d5d-165c-4ec8-8a06-05ac9224b4f6"
      },
      "source": [
        "# Kiểm tra \n",
        "data_mideast_norafrica=df[(df['region_txt'] == 'Middle East & North Africa')]\n",
        "iraq_city=data_mideast_norafrica[(data_mideast_norafrica['country_txt'] == 'Iraq')]\n",
        "iraq_city.head()"
      ],
      "execution_count": null,
      "outputs": [
        {
          "output_type": "execute_result",
          "data": {
            "text/html": [
              "<div>\n",
              "<style scoped>\n",
              "    .dataframe tbody tr th:only-of-type {\n",
              "        vertical-align: middle;\n",
              "    }\n",
              "\n",
              "    .dataframe tbody tr th {\n",
              "        vertical-align: top;\n",
              "    }\n",
              "\n",
              "    .dataframe thead th {\n",
              "        text-align: right;\n",
              "    }\n",
              "</style>\n",
              "<table border=\"1\" class=\"dataframe\">\n",
              "  <thead>\n",
              "    <tr style=\"text-align: right;\">\n",
              "      <th></th>\n",
              "      <th>eventid</th>\n",
              "      <th>iyear</th>\n",
              "      <th>imonth</th>\n",
              "      <th>country_txt</th>\n",
              "      <th>region_txt</th>\n",
              "      <th>city</th>\n",
              "      <th>location</th>\n",
              "      <th>summary</th>\n",
              "      <th>success</th>\n",
              "      <th>suicide</th>\n",
              "      <th>attacktype1_txt</th>\n",
              "      <th>targtype1_txt</th>\n",
              "      <th>targsubtype1_txt</th>\n",
              "    </tr>\n",
              "  </thead>\n",
              "  <tbody>\n",
              "    <tr>\n",
              "      <th>113300</th>\n",
              "      <td>201301010002</td>\n",
              "      <td>2013</td>\n",
              "      <td>1</td>\n",
              "      <td>Iraq</td>\n",
              "      <td>Middle East &amp; North Africa</td>\n",
              "      <td>Tuz Khormato</td>\n",
              "      <td>NaN</td>\n",
              "      <td>01/01/2013: An explosives-laden vehicle detona...</td>\n",
              "      <td>1</td>\n",
              "      <td>0</td>\n",
              "      <td>Bombing/Explosion</td>\n",
              "      <td>Private Citizens &amp; Property</td>\n",
              "      <td>Village/City/Town/Suburb</td>\n",
              "    </tr>\n",
              "    <tr>\n",
              "      <th>113301</th>\n",
              "      <td>201301010003</td>\n",
              "      <td>2013</td>\n",
              "      <td>1</td>\n",
              "      <td>Iraq</td>\n",
              "      <td>Middle East &amp; North Africa</td>\n",
              "      <td>Tuz Khormato</td>\n",
              "      <td>NaN</td>\n",
              "      <td>01/01/2013: At least two explosives detonated ...</td>\n",
              "      <td>1</td>\n",
              "      <td>0</td>\n",
              "      <td>Bombing/Explosion</td>\n",
              "      <td>Police</td>\n",
              "      <td>Police Security Forces/Officers</td>\n",
              "    </tr>\n",
              "    <tr>\n",
              "      <th>113302</th>\n",
              "      <td>201301010004</td>\n",
              "      <td>2013</td>\n",
              "      <td>1</td>\n",
              "      <td>Iraq</td>\n",
              "      <td>Middle East &amp; North Africa</td>\n",
              "      <td>Kirkuk</td>\n",
              "      <td>Southern Kirkuk</td>\n",
              "      <td>01/01/2013: An explosive device detonated targ...</td>\n",
              "      <td>1</td>\n",
              "      <td>0</td>\n",
              "      <td>Bombing/Explosion</td>\n",
              "      <td>Police</td>\n",
              "      <td>Police Patrol (including vehicles and convoys)</td>\n",
              "    </tr>\n",
              "    <tr>\n",
              "      <th>113312</th>\n",
              "      <td>201301010015</td>\n",
              "      <td>2013</td>\n",
              "      <td>1</td>\n",
              "      <td>Iraq</td>\n",
              "      <td>Middle East &amp; North Africa</td>\n",
              "      <td>Tikrit</td>\n",
              "      <td>NaN</td>\n",
              "      <td>01/01/2013: An explosive device detonated at t...</td>\n",
              "      <td>1</td>\n",
              "      <td>0</td>\n",
              "      <td>Bombing/Explosion</td>\n",
              "      <td>Government (General)</td>\n",
              "      <td>Government Personnel (excluding police, military)</td>\n",
              "    </tr>\n",
              "    <tr>\n",
              "      <th>113313</th>\n",
              "      <td>201301010016</td>\n",
              "      <td>2013</td>\n",
              "      <td>1</td>\n",
              "      <td>Iraq</td>\n",
              "      <td>Middle East &amp; North Africa</td>\n",
              "      <td>Tikrit</td>\n",
              "      <td>East Of Tikrit</td>\n",
              "      <td>01/01/2013: An explosive device detonated in T...</td>\n",
              "      <td>1</td>\n",
              "      <td>0</td>\n",
              "      <td>Bombing/Explosion</td>\n",
              "      <td>Police</td>\n",
              "      <td>Police Security Forces/Officers</td>\n",
              "    </tr>\n",
              "  </tbody>\n",
              "</table>\n",
              "</div>"
            ],
            "text/plain": [
              "             eventid  ...                                   targsubtype1_txt\n",
              "113300  201301010002  ...                           Village/City/Town/Suburb\n",
              "113301  201301010003  ...                    Police Security Forces/Officers\n",
              "113302  201301010004  ...     Police Patrol (including vehicles and convoys)\n",
              "113312  201301010015  ...  Government Personnel (excluding police, military)\n",
              "113313  201301010016  ...                    Police Security Forces/Officers\n",
              "\n",
              "[5 rows x 13 columns]"
            ]
          },
          "metadata": {
            "tags": []
          },
          "execution_count": 14
        }
      ]
    },
    {
      "cell_type": "code",
      "metadata": {
        "colab": {
          "base_uri": "https://localhost:8080/",
          "height": 652
        },
        "id": "yJ7RQlCKGP8Z",
        "outputId": "afe64126-8bf5-48ca-878f-6f5af11d6fa8"
      },
      "source": [
        "# 1.1 Top các thành phố bị khủng bố nhiều ở Iraq\n",
        "df_iraq = df.copy()\n",
        "data_mideast_norafrica=df[(df['region_txt'] == 'Middle East & North Africa')]\n",
        "iraq_city=data_mideast_norafrica[(data_mideast_norafrica['country_txt'] == 'Iraq')]\n",
        "iraq_city_to_location = iraq_city.groupby('city').count()['location'].reset_index()\n",
        "iraq_city_to_location = iraq_city_to_location.sort_values('location', ascending=False).head(10)\n",
        "plt.figure(figsize=(10,10))\n",
        "sns.barplot(data=iraq_city_to_location, x='city', y= 'location')\n",
        "plt.xticks(rotation=90)\n",
        "plt.show()"
      ],
      "execution_count": null,
      "outputs": [
        {
          "output_type": "display_data",
          "data": {
            "image/png": "[encoded data removed]",
            "text/plain": [
              "<Figure size 720x720 with 1 Axes>"
            ]
          },
          "metadata": {
            "tags": [],
            "needs_background": "light"
          }
        }
      ]
    },
    {
      "cell_type": "code",
      "metadata": {
        "colab": {
          "base_uri": "https://localhost:8080/",
          "height": 744
        },
        "id": "e9M9gdGxNRIv",
        "outputId": "de4f52c5-2c7a-46c1-8c69-50932dcf7b3e"
      },
      "source": [
        "# Thành phố Baghdad là thủ dô của Iraq\n",
        "# 1.1.1 Top các cách thức khủng bố tại thành phố Baghdad\n",
        "plt.figure(figsize=(20, 10)) # rộng - cao theo inches (max 30)\n",
        "df_iraq = df.copy()\n",
        "data_mideast_norafrica=df[(df['region_txt'] == 'Middle East & North Africa')]\n",
        "iraq_city=data_mideast_norafrica[(data_mideast_norafrica['country_txt'] == 'Iraq')]\n",
        "Baghdad=iraq_city[(iraq_city['city'] == 'Baghdad')]\n",
        "#######################################################################################################\n",
        "plt.figure(figsize=(10,5))\n",
        "plt.subplot(211)\n",
        "sns.countplot(data=Baghdad,x='attacktype1_txt', order=Baghdad['attacktype1_txt'].value_counts().index)\n",
        "plt.title('Top mục cách thức khủng bố tại Baghdad')\n",
        "plt.xticks(rotation=90)\n",
        "plt.show()\n",
        "######################################################################################################################\n",
        "# # 1.1.2 Top các cách thức khủng bố tại thành phố KHÁC Baghdad\n",
        "df_iraq = df.copy()\n",
        "data_mideast_norafrica=df[(df['region_txt'] == 'Middle East & North Africa')]\n",
        "iraq_city=data_mideast_norafrica[(data_mideast_norafrica['country_txt'] == 'Iraq')]\n",
        "Baghdad=iraq_city[(iraq_city['city'] != 'Baghdad')]\n",
        "#######################################################################################################\n",
        "plt.figure(figsize=(10,5))\n",
        "plt.subplot(212)\n",
        "sns.countplot(data=Baghdad,x='attacktype1_txt', order=Baghdad['attacktype1_txt'].value_counts().index)\n",
        "plt.title('Top mục cách thức khủng bố khác Baghdad')\n",
        "plt.xticks(rotation=90)\n",
        "plt.show()"
      ],
      "execution_count": null,
      "outputs": [
        {
          "output_type": "display_data",
          "data": {
            "text/plain": [
              "<Figure size 1440x720 with 0 Axes>"
            ]
          },
          "metadata": {
            "tags": []
          }
        },
        {
          "output_type": "display_data",
          "data": {
            "image/png": "[encoded data removed]",
            "text/plain": [
              "<Figure size 720x360 with 1 Axes>"
            ]
          },
          "metadata": {
            "tags": [],
            "needs_background": "light"
          }
        },
        {
          "output_type": "display_data",
          "data": {
            "image/png": "[encoded data removed]",
            "text/plain": [
              "<Figure size 720x360 with 1 Axes>"
            ]
          },
          "metadata": {
            "tags": [],
            "needs_background": "light"
          }
        }
      ]
    },
    {
      "cell_type": "code",
      "metadata": {
        "colab": {
          "base_uri": "https://localhost:8080/",
          "height": 672
        },
        "id": "lJGTafeeL2jM",
        "outputId": "e7bd4daa-79a1-4ff9-bf94-1731336297e8"
      },
      "source": [
        "plt.figure(figsize=(20, 10)) # rộng - cao theo inches (max 30)\n",
        "# 1.1.3 Top các mục tiêu chính của khủng bố tại thành phố Baghdad (thành công)\n",
        "df_iraq = df.copy()\n",
        "data_mideast_norafrica=df[(df['region_txt'] == 'Middle East & North Africa')]\n",
        "iraq_city=data_mideast_norafrica[(data_mideast_norafrica['country_txt'] == 'Iraq')]\n",
        "Baghdad=iraq_city[(iraq_city['city'] == 'Baghdad')]\n",
        "#######################################################################################################\n",
        "plt.figure(figsize=(10,5))\n",
        "Baghdad=Baghdad[(Baghdad['success'] == 1)]\n",
        "Baghdad.groupby('targtype1_txt').count()['success'].reset_index()\n",
        "plt.subplot(211)\n",
        "sns.countplot(data=Baghdad,x='targtype1_txt', order=Baghdad['targtype1_txt'].value_counts().head(15).index)\n",
        "plt.title('Top mục tiêu chính tại Baghdad')\n",
        "plt.xticks(rotation=90)\n",
        "plt.show()\n",
        "#####################################################################################################################################\n",
        "# 1.1.4 Top các mục tiêu chính của khủng bố ở thành phố KHÁC Baghdad (thành công)\n",
        "df_iraq = df.copy()\n",
        "data_mideast_norafrica=df[(df['region_txt'] == 'Middle East & North Africa')]\n",
        "iraq_city=data_mideast_norafrica[(data_mideast_norafrica['country_txt'] == 'Iraq')]\n",
        "Baghdad=iraq_city[(iraq_city['city'] != 'Baghdad')]\n",
        "#######################################################################################################\n",
        "plt.figure(figsize=(10,5))\n",
        "Baghdad=Baghdad[(Baghdad['success'] == 1)]\n",
        "Baghdad.groupby('targtype1_txt').count()['success'].reset_index()\n",
        "plt.subplot(212)\n",
        "sns.countplot(data=Baghdad,x='targtype1_txt', order=Baghdad['targtype1_txt'].value_counts().head(15).index)\n",
        "plt.title('Top mục tiêu chính khác Baghdad')\n",
        "plt.xticks(rotation=90)\n",
        "plt.show()"
      ],
      "execution_count": null,
      "outputs": [
        {
          "output_type": "display_data",
          "data": {
            "text/plain": [
              "<Figure size 1440x720 with 0 Axes>"
            ]
          },
          "metadata": {
            "tags": []
          }
        },
        {
          "output_type": "display_data",
          "data": {
            "image/png": "[encoded data removed]",
            "text/plain": [
              "<Figure size 720x360 with 1 Axes>"
            ]
          },
          "metadata": {
            "tags": [],
            "needs_background": "light"
          }
        },
        {
          "output_type": "display_data",
          "data": {
            "image/png": "[encoded data removed]",
            "text/plain": [
              "<Figure size 720x360 with 1 Axes>"
            ]
          },
          "metadata": {
            "tags": [],
            "needs_background": "light"
          }
        }
      ]
    },
    {
      "cell_type": "code",
      "metadata": {
        "colab": {
          "base_uri": "https://localhost:8080/",
          "height": 892
        },
        "id": "8qYFLVa9XgOF",
        "outputId": "a5e1f171-04bb-4bf0-b08f-dc16eb58e9b6"
      },
      "source": [
        "plt.figure(figsize=(20, 10)) # rộng - cao theo inches (max 30)\n",
        "# 1.1.5 Top các mục tiêu phụ của khủng bố tại thành phố Baghdad (thành công)\n",
        "df_iraq = df.copy()\n",
        "data_mideast_norafrica=df[(df['region_txt'] == 'Middle East & North Africa')]\n",
        "iraq_city=data_mideast_norafrica[(data_mideast_norafrica['country_txt'] == 'Iraq')]\n",
        "Baghdad=iraq_city[(iraq_city['city'] == 'Baghdad')]\n",
        "#######################################################################################################\n",
        "plt.figure(figsize=(10,5))\n",
        "Baghdad=Baghdad[(Baghdad['success'] == 1)]\n",
        "plt.subplot(211)\n",
        "sns.countplot(data=Baghdad,x='targsubtype1_txt', order=Baghdad['targsubtype1_txt'].value_counts().head(15).index)\n",
        "plt.title('Top mục tiêu phụ tại Baghdad')\n",
        "plt.xticks(rotation=90)\n",
        "plt.show()\n",
        "################################################################################################################################\n",
        "# 1.1.6 Top các mục tiêu phụ của khủng bố tại thành phố KHÁC Baghdad (thành công)\n",
        "df_iraq = df.copy()\n",
        "data_mideast_norafrica=df[(df['region_txt'] == 'Middle East & North Africa')]\n",
        "iraq_city=data_mideast_norafrica[(data_mideast_norafrica['country_txt'] == 'Iraq')]\n",
        "Baghdad=iraq_city[(iraq_city['city'] != 'Baghdad')]\n",
        "#######################################################################################################\n",
        "plt.figure(figsize=(10,5))\n",
        "Baghdad=Baghdad[(Baghdad['success'] == 1)]\n",
        "plt.subplot(212)\n",
        "sns.countplot(data=Baghdad,x='targsubtype1_txt', order=Baghdad['targsubtype1_txt'].value_counts().head(15).index)\n",
        "plt.title('Top mục tiêu phụ khác Baghdad')\n",
        "plt.xticks(rotation=90)\n",
        "plt.show()"
      ],
      "execution_count": null,
      "outputs": [
        {
          "output_type": "display_data",
          "data": {
            "text/plain": [
              "<Figure size 1440x720 with 0 Axes>"
            ]
          },
          "metadata": {
            "tags": []
          }
        },
        {
          "output_type": "display_data",
          "data": {
            "image/png": "[encoded data removed]",
            "text/plain": [
              "<Figure size 720x360 with 1 Axes>"
            ]
          },
          "metadata": {
            "tags": [],
            "needs_background": "light"
          }
        },
        {
          "output_type": "display_data",
          "data": {
            "image/png": "[encoded data removed]",
            "text/plain": [
              "<Figure size 720x360 with 1 Axes>"
            ]
          },
          "metadata": {
            "tags": [],
            "needs_background": "light"
          }
        }
      ]
    },
    {
      "cell_type": "code",
      "metadata": {
        "id": "PAJwCudDTs1a"
      },
      "source": [
        "# 1.1.7 Top các cách thức khủng bố tại Iraq\n",
        "# plt.figure(figsize=(10,10))\n",
        "# sns.countplot(data=iraq_city,x='attacktype1_txt', order=iraq_city['attacktype1_txt'].value_counts().index)\n",
        "# plt.xticks(rotation=90)\n",
        "# plt.show()"
      ],
      "execution_count": null,
      "outputs": []
    },
    {
      "cell_type": "code",
      "metadata": {
        "id": "NWGiChejMGEm"
      },
      "source": [
        "# 1.1.8 Top các mục tiêu chính của khủng bố tại Iraq\n",
        "# plt.figure(figsize=(15,15))\n",
        "# sns.countplot(data=iraq_city,x='targtype1_txt', order=iraq_city['targtype1_txt'].value_counts().head(30).index)\n",
        "# plt.xticks(rotation=90)\n",
        "# plt.show()"
      ],
      "execution_count": null,
      "outputs": []
    },
    {
      "cell_type": "code",
      "metadata": {
        "id": "hqcFWhVeVYnE"
      },
      "source": [
        "# # 1.1.9 Top các mục tiêu chính của khủng bố tại Iraq (thành công)\n",
        "# df_iraq = df.copy()\n",
        "# data_mideast_norafrica=df[(df['region_txt'] == 'Middle East & North Africa')]\n",
        "# iraq_city=data_mideast_norafrica[(data_mideast_norafrica['country_txt'] == 'Iraq')]\n",
        "# plt.figure(figsize=(15,15))\n",
        "# iraq_city=iraq_city[(iraq_city['success'] == 1)]\n",
        "# iraq_city.groupby('targtype1_txt').count()['success'].reset_index()\n",
        "# sns.countplot(data=iraq_city,x='targtype1_txt', order=iraq_city['targtype1_txt'].value_counts().head(30).index)\n",
        "# plt.xticks(rotation=90)\n",
        "# plt.show()"
      ],
      "execution_count": null,
      "outputs": []
    },
    {
      "cell_type": "code",
      "metadata": {
        "id": "ID6RCHNGPx-b"
      },
      "source": [
        "# # 1.1.10 Top các mục tiêu phụ của khủng bố tại Iraq (thành công)\n",
        "# plt.figure(figsize=(15,15))\n",
        "# data_mideast_norafrica=df[(df['region_txt'] == 'Middle East & North Africa')]\n",
        "# iraq_city=data_mideast_norafrica[(data_mideast_norafrica['country_txt'] == 'Iraq')]\n",
        "# iraq_city=iraq_city[(iraq_city['success'] == 1)]\n",
        "# sns.countplot(data=iraq_city,x='targsubtype1_txt', order=iraq_city['targsubtype1_txt'].value_counts().head(30).index)\n",
        "# plt.xticks(rotation=90)\n",
        "# plt.show()"
      ],
      "execution_count": null,
      "outputs": []
    },
    {
      "cell_type": "code",
      "metadata": {
        "id": "KpdudlL1DfHs"
      },
      "source": [
        "# # 1.2 Top các thành phố ở vùng Nam Á bị tấn công khủng bố nhiều nhất\n",
        "# data_south_asia=df[(df['region_txt'] == 'South Asia')]\n",
        "# south_asia_to_city = data_south_asia.groupby('country_txt').count()['city'].reset_index()\n",
        "# south_asia_to_city = south_asia_to_city.sort_values('city', ascending=False).head(5)\n",
        "# plt.figure(figsize=(5,5))\n",
        "# sns.barplot(data=south_asia_to_city, x='country_txt', y= 'city')\n",
        "# plt.xticks(rotation=90)\n",
        "# plt.show()"
      ],
      "execution_count": null,
      "outputs": []
    },
    {
      "cell_type": "code",
      "metadata": {
        "id": "yqDz-vgEyspY"
      },
      "source": [
        "# # 1.3 Top các thành phố ở vùng Nam Á bị tấn công khủng bố nhiều nhất\n",
        "# data_sub_africa=df[(df['region_txt'] == 'Sub-Saharan Africa')]\n",
        "# sub_africa_to_city = data_sub_africa.groupby('country_txt').count()['city'].reset_index()\n",
        "# sub_africa_to_city = sub_africa_to_city.sort_values('city', ascending=False).head(5)\n",
        "# plt.figure(figsize=(5,5))\n",
        "# sns.barplot(data=sub_africa_to_city, x='country_txt', y= 'city')\n",
        "# plt.xticks(rotation=90)\n",
        "# plt.show()"
      ],
      "execution_count": null,
      "outputs": []
    }
  ]
}